{
 "cells": [
  {
   "cell_type": "code",
   "execution_count": null,
   "metadata": {},
   "outputs": [],
   "source": [
    "def compute_gradient(x,y,w,b):\n",
    "    m=len(x)\n",
    "    dj_dw=0\n",
    "    dj_db=0\n",
    "    for i in range(m):\n",
    "        f_wb_i = w*x[i] + b\n",
    "        dj_db_i= f_wb_i-y[i]\n",
    "        dj_dw_i = (f_wb_i-y[i])*x[i]\n",
    "        dj_db+=dj_db_i\n",
    "        dj_dw+=dj_dw_i\n",
    "    dj_dw=dj_dw/m\n",
    "    dj_db=dj_db/m\n",
    "    return  dj_dw, dj_db\n",
    "    "
   ]
  }
 ],
 "metadata": {
  "language_info": {
   "name": "python"
  }
 },
 "nbformat": 4,
 "nbformat_minor": 2
}
