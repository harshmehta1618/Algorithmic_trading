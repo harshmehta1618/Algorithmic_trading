{
 "cells": [
  {
   "cell_type": "markdown",
   "metadata": {},
   "source": [
    "# Equal-Weight S&P 500 Index Fund\n",
    "\n",
    "## Introduction & Library Imports\n",
    "\n",
    "The S&P 500 is the world's most popular stock market index. The largest fund that is benchmarked to this index is the SPDR® S&P 500® ETF Trust. It has more than US$250 billion of assets under management.\n",
    "\n",
    "The goal of this section of the course is to create a Python script that will accept the value of your portfolio and tell you how many shares of each S&P 500 constituent you should purchase to get an equal-weight version of the index fund.\n",
    "\n",
    "## Library Imports\n",
    "\n",
    "The first thing we need to do is import the open-source software libraries that we'll be using in this tutorial."
   ]
  },
  {
   "cell_type": "code",
   "execution_count": 1,
   "metadata": {},
   "outputs": [],
   "source": [
    "import numpy as np\n",
    "import pandas as pd\n",
    "import requests\n",
    "import xlsxwriter\n",
    "import math"
   ]
  },
  {
   "cell_type": "markdown",
   "metadata": {},
   "source": [
    "## Importing Our List of Stocks\n",
    "\n",
    "The next thing we need to do is import the constituents of the S&P 500.\n",
    "\n",
    "These constituents change over time, so in an ideal world you would connect directly to the index provider (Standard & Poor's) and pull their real-time constituents on a regular basis.\n",
    "\n",
    "Paying for access to the index provider's API is outside of the scope of this course. \n",
    "\n",
    "There's a static version of the S&P 500 constituents available here. [Click this link to download them now](https://drive.google.com/file/d/1ZJSpbY69DVckVZlO9cC6KkgfSufybcHN/view?usp=sharing). Move this file into the `starter-files` folder so it can be accessed by other files in that directory.\n",
    "\n",
    "Now it's time to import these stocks to our Jupyter Notebook file."
   ]
  },
  {
   "cell_type": "code",
   "execution_count": 2,
   "metadata": {},
   "outputs": [
    {
     "data": {
      "text/html": [
       "<div>\n",
       "<style scoped>\n",
       "    .dataframe tbody tr th:only-of-type {\n",
       "        vertical-align: middle;\n",
       "    }\n",
       "\n",
       "    .dataframe tbody tr th {\n",
       "        vertical-align: top;\n",
       "    }\n",
       "\n",
       "    .dataframe thead th {\n",
       "        text-align: right;\n",
       "    }\n",
       "</style>\n",
       "<table border=\"1\" class=\"dataframe\">\n",
       "  <thead>\n",
       "    <tr style=\"text-align: right;\">\n",
       "      <th></th>\n",
       "      <th>Ticker</th>\n",
       "    </tr>\n",
       "  </thead>\n",
       "  <tbody>\n",
       "    <tr>\n",
       "      <th>0</th>\n",
       "      <td>A</td>\n",
       "    </tr>\n",
       "    <tr>\n",
       "      <th>1</th>\n",
       "      <td>AAL</td>\n",
       "    </tr>\n",
       "    <tr>\n",
       "      <th>2</th>\n",
       "      <td>AAP</td>\n",
       "    </tr>\n",
       "    <tr>\n",
       "      <th>3</th>\n",
       "      <td>AAPL</td>\n",
       "    </tr>\n",
       "    <tr>\n",
       "      <th>4</th>\n",
       "      <td>ABBV</td>\n",
       "    </tr>\n",
       "    <tr>\n",
       "      <th>...</th>\n",
       "      <td>...</td>\n",
       "    </tr>\n",
       "    <tr>\n",
       "      <th>491</th>\n",
       "      <td>YUM</td>\n",
       "    </tr>\n",
       "    <tr>\n",
       "      <th>492</th>\n",
       "      <td>ZBH</td>\n",
       "    </tr>\n",
       "    <tr>\n",
       "      <th>493</th>\n",
       "      <td>ZBRA</td>\n",
       "    </tr>\n",
       "    <tr>\n",
       "      <th>494</th>\n",
       "      <td>ZION</td>\n",
       "    </tr>\n",
       "    <tr>\n",
       "      <th>495</th>\n",
       "      <td>ZTS</td>\n",
       "    </tr>\n",
       "  </tbody>\n",
       "</table>\n",
       "<p>496 rows × 1 columns</p>\n",
       "</div>"
      ],
      "text/plain": [
       "    Ticker\n",
       "0        A\n",
       "1      AAL\n",
       "2      AAP\n",
       "3     AAPL\n",
       "4     ABBV\n",
       "..     ...\n",
       "491    YUM\n",
       "492    ZBH\n",
       "493   ZBRA\n",
       "494   ZION\n",
       "495    ZTS\n",
       "\n",
       "[496 rows x 1 columns]"
      ]
     },
     "execution_count": 2,
     "metadata": {},
     "output_type": "execute_result"
    }
   ],
   "source": [
    "stocks = pd.read_csv('sp_500_stocks.csv')\n",
    "stocks"
   ]
  },
  {
   "cell_type": "markdown",
   "metadata": {},
   "source": [
    "## Acquiring an API Token\n",
    "\n",
    "Now it's time to import our IEX Cloud API token. This is the data provider that we will be using throughout this course.\n",
    "\n",
    "API tokens (and other sensitive information) should be stored in a `secrets.py` file that doesn't get pushed to your local Git repository. We'll be using a sandbox API token in this course, which means that the data we'll use is randomly-generated and (more importantly) has no cost associated with it.\n",
    "\n",
    "[Click here](http://nickmccullum.com/algorithmic-trading-python/secrets.py) to download your `secrets.py` file. Move the file into the same directory as this Jupyter Notebook before proceeding."
   ]
  },
  {
   "cell_type": "code",
   "execution_count": 3,
   "metadata": {},
   "outputs": [],
   "source": [
    "from my_secrets import IEX_CLOUD_API_TOKEN\n"
   ]
  },
  {
   "cell_type": "markdown",
   "metadata": {},
   "source": [
    "## Making Our First API Call\n",
    "\n",
    "Now it's time to structure our API calls to IEX cloud. \n",
    "\n",
    "We need the following information from the API:\n",
    "\n",
    "* Market capitalization for each stock\n",
    "* Price of each stock\n",
    "\n"
   ]
  },
  {
   "cell_type": "code",
   "execution_count": 4,
   "metadata": {},
   "outputs": [
    {
     "name": "stdout",
     "output_type": "stream",
     "text": [
      "{'avgTotalVolume': 62011003, 'calculationPrice': 'tops', 'change': 1.1, 'changePercent': 0.00579, 'close': None, 'closeSource': 'official', 'closeTime': None, 'companyName': 'Apple Inc', 'currency': 'USD', 'delayedPrice': None, 'delayedPriceTime': None, 'extendedChange': None, 'extendedChangePercent': None, 'extendedPrice': None, 'extendedPriceTime': None, 'high': None, 'highSource': None, 'highTime': None, 'iexAskPrice': 191.09, 'iexAskSize': 100, 'iexBidPrice': 191.07, 'iexBidSize': 200, 'iexClose': 191.08, 'iexCloseTime': 1716916653314, 'iexLastUpdated': 1716916653314, 'iexMarketPercent': 0.017656381543431198, 'iexOpen': 191.56, 'iexOpenTime': 1716903000006, 'iexRealtimePrice': 191.08, 'iexRealtimeSize': 3, 'iexVolume': 481699, 'lastTradeTime': 1716916648718, 'latestPrice': 191.08, 'latestSource': 'IEX real time price', 'latestTime': '1:17:33 PM', 'latestUpdate': 1716916653314, 'latestVolume': None, 'low': None, 'lowSource': None, 'lowTime': None, 'marketCap': 2930036388560, 'oddLotDelayedPrice': None, 'oddLotDelayedPriceTime': None, 'open': None, 'openTime': None, 'openSource': 'official', 'peRatio': 29.72, 'previousClose': 189.98, 'previousVolume': 36326975, 'primaryExchange': 'NASDAQ', 'symbol': 'AAPL', 'volume': None, 'week52High': 198.57, 'week52Low': 163.63, 'ytdChange': -0.0022504177320477776, 'isUSMarketOpen': True}\n"
     ]
    },
    {
     "data": {
      "text/plain": [
       "191.08"
      ]
     },
     "execution_count": 4,
     "metadata": {},
     "output_type": "execute_result"
    }
   ],
   "source": [
    "symbol = 'AAPL'\n",
    "api_url = f'https://cloud.iexapis.com/stable/stock/{symbol}/quote?token={IEX_CLOUD_API_TOKEN}'\n",
    "#https://cloud.iexapis.com/stable/stock/{symbol}/quote?token={IEX_CLOUD_API_TOKEN}\n",
    "#https://cloud.iexapis.com/stable/tops?token={IEX_CLOUD_API_TOKEN}&symbols={symbol}\n",
    "data = requests.get(api_url).json()\n",
    "price = data['iexClose']\n",
    "print(data)\n",
    "price"
   ]
  },
  {
   "cell_type": "markdown",
   "metadata": {},
   "source": [
    "## Parsing Our API Call\n",
    "\n",
    "The API call that we executed in the last code block contains all of the information required to build our equal-weight S&P 500 strategy. \n",
    "\n",
    "With that said, the data isn't in a proper format yet. We need to parse it first."
   ]
  },
  {
   "cell_type": "code",
   "execution_count": 5,
   "metadata": {},
   "outputs": [
    {
     "name": "stdout",
     "output_type": "stream",
     "text": [
      "{'companyName': 'Apple Inc', 'marketcap': 2913168898360, 'week52high': 198.57, 'week52low': 163.63, 'week52highSplitAdjustOnly': 199.62, 'week52lowSplitAdjustOnly': 164.08, 'week52change': 0.09447084253169669, 'sharesOutstanding': 15334082000, 'float': 0, 'avg10Volume': 41730424, 'avg30Volume': 62011003, 'day200MovingAvg': 182.3, 'day50MovingAvg': 177.64, 'employees': 164000, 'ttmEPS': 6.43, 'ttmDividendRate': 0.966204324874062, 'dividendYield': 0.005085821269997168, 'nextDividendDate': '', 'exDividendDate': '2024-05-10', 'nextEarningsDate': '2024-08-01', 'peRatio': 29.01880582892548, 'beta': 1.0670495890183638, 'maxChangePercent': 73.6483300589391, 'year5ChangePercent': 3.4285724276027016, 'year2ChangePercent': 0.2923897441479193, 'year1ChangePercent': 0.09447084253169669, 'ytdChangePercent': -0.008040417732047778, 'month6ChangePercent': 0.006280913290768408, 'month3ChangePercent': 0.043068437434286455, 'month1ChangePercent': 0.12519530116357425, 'day30ChangePercent': 0.12519530116357425, 'day5ChangePercent': -0.00554857621440541}\n"
     ]
    },
    {
     "data": {
      "text/plain": [
       "2913168898360"
      ]
     },
     "execution_count": 5,
     "metadata": {},
     "output_type": "execute_result"
    }
   ],
   "source": [
    "\n",
    "# URL for getting stock stats including marketCap\n",
    "stats_url = f'https://cloud.iexapis.com/stable/stock/{symbol}/stats?token={IEX_CLOUD_API_TOKEN}'\n",
    "stats_response = requests.get(stats_url, verify=True)\n",
    "stats_data = stats_response.json()\n",
    "print(stats_data)\n",
    "marketCap = stats_data.get('marketcap', 'N/A')\n",
    "marketCap"
   ]
  },
  {
   "cell_type": "markdown",
   "metadata": {},
   "source": [
    "## Adding Our Stocks Data to a Pandas DataFrame\n",
    "\n",
    "The next thing we need to do is add our stock's price and market capitalization to a pandas DataFrame. Think of a DataFrame like the Python version of a spreadsheet. It stores tabular data."
   ]
  },
  {
   "cell_type": "code",
   "execution_count": 6,
   "metadata": {},
   "outputs": [
    {
     "data": {
      "text/html": [
       "<div>\n",
       "<style scoped>\n",
       "    .dataframe tbody tr th:only-of-type {\n",
       "        vertical-align: middle;\n",
       "    }\n",
       "\n",
       "    .dataframe tbody tr th {\n",
       "        vertical-align: top;\n",
       "    }\n",
       "\n",
       "    .dataframe thead th {\n",
       "        text-align: right;\n",
       "    }\n",
       "</style>\n",
       "<table border=\"1\" class=\"dataframe\">\n",
       "  <thead>\n",
       "    <tr style=\"text-align: right;\">\n",
       "      <th></th>\n",
       "      <th>Ticker</th>\n",
       "      <th>Stock Price</th>\n",
       "      <th>Market Capitalization</th>\n",
       "      <th>Number Of Shares To Buy</th>\n",
       "    </tr>\n",
       "  </thead>\n",
       "  <tbody>\n",
       "  </tbody>\n",
       "</table>\n",
       "</div>"
      ],
      "text/plain": [
       "Empty DataFrame\n",
       "Columns: [Ticker, Stock Price, Market Capitalization, Number Of Shares To Buy]\n",
       "Index: []"
      ]
     },
     "execution_count": 6,
     "metadata": {},
     "output_type": "execute_result"
    }
   ],
   "source": [
    "\n",
    "my_columns = ['Ticker','Stock Price','Market Capitalization','Number Of Shares To Buy']\n",
    "final_dataframe = pd.DataFrame(columns=my_columns)\n",
    "final_dataframe"
   ]
  },
  {
   "cell_type": "code",
   "execution_count": 7,
   "metadata": {},
   "outputs": [
    {
     "data": {
      "text/html": [
       "<div>\n",
       "<style scoped>\n",
       "    .dataframe tbody tr th:only-of-type {\n",
       "        vertical-align: middle;\n",
       "    }\n",
       "\n",
       "    .dataframe tbody tr th {\n",
       "        vertical-align: top;\n",
       "    }\n",
       "\n",
       "    .dataframe thead th {\n",
       "        text-align: right;\n",
       "    }\n",
       "</style>\n",
       "<table border=\"1\" class=\"dataframe\">\n",
       "  <thead>\n",
       "    <tr style=\"text-align: right;\">\n",
       "      <th></th>\n",
       "      <th>Ticker</th>\n",
       "      <th>Stock Price</th>\n",
       "      <th>Market Capitalization</th>\n",
       "      <th>Number Of Shares To Buy</th>\n",
       "    </tr>\n",
       "  </thead>\n",
       "  <tbody>\n",
       "    <tr>\n",
       "      <th>0</th>\n",
       "      <td>AAPL</td>\n",
       "      <td>191.08</td>\n",
       "      <td>2913168898360</td>\n",
       "      <td>N/A</td>\n",
       "    </tr>\n",
       "  </tbody>\n",
       "</table>\n",
       "</div>"
      ],
      "text/plain": [
       "  Ticker Stock Price Market Capitalization Number Of Shares To Buy\n",
       "0   AAPL      191.08         2913168898360                     N/A"
      ]
     },
     "execution_count": 7,
     "metadata": {},
     "output_type": "execute_result"
    }
   ],
   "source": [
    "# Create the Series to append\n",
    "new_series = pd.Series(\n",
    "    [symbol, price, marketCap, 'N/A'],\n",
    "    index=my_columns\n",
    ")\n",
    "\n",
    "# Use pd.concat to append the new series to the DataFrame\n",
    "final_dataframe = pd.concat([final_dataframe, new_series.to_frame().T], ignore_index=True)\n",
    "\n",
    "# Print the updated DataFrame\n",
    "final_dataframe"
   ]
  },
  {
   "cell_type": "markdown",
   "metadata": {},
   "source": [
    "## Looping Through The Tickers in Our List of Stocks\n",
    "\n",
    "Using the same logic that we outlined above, we can pull data for all S&P 500 stocks and store their data in the DataFrame using a `for` loop."
   ]
  },
  {
   "cell_type": "code",
   "execution_count": 8,
   "metadata": {},
   "outputs": [
    {
     "name": "stdout",
     "output_type": "stream",
     "text": [
      "   Ticker Stock Price Market Capitalization Number Of Shares To Buy\n",
      "0    SCHW       71.09          128444119840                     N/A\n",
      "1     SEE       36.81            5421234090                     N/A\n",
      "2     SHW      303.55           77291892097                     N/A\n",
      "3    SIVB       39.05                     0                     N/A\n",
      "4     SJM       109.1           11654890124                     N/A\n",
      "..    ...         ...                   ...                     ...\n",
      "91    YUM      136.83           38766673982                     N/A\n",
      "92    ZBH      117.11           23948842811                     N/A\n",
      "93   ZBRA      326.53           16814144781                     N/A\n",
      "94   ZION       42.87            6362442402                     N/A\n",
      "95    ZTS      170.67           77602113950                     N/A\n",
      "\n",
      "[96 rows x 4 columns]\n"
     ]
    }
   ],
   "source": [
    "final_dataframe=pd.DataFrame(columns=my_columns)\n",
    "for stock in stocks['Ticker'][400:]:\n",
    "    try:\n",
    "        # Fetch stats data\n",
    "        stats_url = f'https://cloud.iexapis.com/stable/stock/{stock}/stats?token={IEX_CLOUD_API_TOKEN}'\n",
    "        stats_response = requests.get(stats_url, verify=True)\n",
    "        \n",
    "        if stats_response.status_code != 200:\n",
    "            print(f\"Error fetching stats for {stock}: {stats_response.status_code}\")\n",
    "            print(stats_response.text)\n",
    "            continue\n",
    "        \n",
    "        stats_data = stats_response.json()\n",
    "        \n",
    "        # Fetch quote data\n",
    "        api_url = f'https://cloud.iexapis.com/stable/stock/{stock}/quote?token={IEX_CLOUD_API_TOKEN}'\n",
    "        data_response = requests.get(api_url, verify=True)\n",
    "        \n",
    "        if data_response.status_code != 200:\n",
    "            print(f\"Error fetching quote for {stock}: {data_response.status_code}\")\n",
    "            print(data_response.text)\n",
    "            continue\n",
    "        \n",
    "        data = data_response.json()\n",
    "        \n",
    "        # Create new series for the DataFrame\n",
    "        new_series = pd.Series(\n",
    "            [stock, data.get('iexClose', 'N/A'), stats_data.get('marketcap', 'N/A'), 'N/A'],\n",
    "            index=my_columns\n",
    "        )\n",
    "        \n",
    "        # Append the new series to the DataFrame\n",
    "        final_dataframe = pd.concat([final_dataframe, new_series.to_frame().T], ignore_index=True)\n",
    "    \n",
    "    except requests.exceptions.RequestException as e:\n",
    "        print(f\"RequestException for {stock}: {e}\")\n",
    "    except requests.exceptions.JSONDecodeError as e:\n",
    "        print(f\"JSONDecodeError for {stock}: {e}\")\n",
    "        print(\"Response content:\", data_response.text)\n",
    "\n",
    "# Print the updated DataFrame\n",
    "print(final_dataframe)"
   ]
  },
  {
   "cell_type": "code",
   "execution_count": null,
   "metadata": {},
   "outputs": [],
   "source": []
  },
  {
   "cell_type": "markdown",
   "metadata": {},
   "source": [
    "## Using Batch API Calls to Improve Performance\n",
    "\n",
    "Batch API calls are one of the easiest ways to improve the performance of your code.\n",
    "\n",
    "This is because HTTP requests are typically one of the slowest components of a script.\n",
    "\n",
    "Also, API providers will often give you discounted rates for using batch API calls since they are easier for the API provider to respond to.\n",
    "\n",
    "IEX Cloud limits their batch API calls to 100 tickers per request. Still, this reduces the number of API calls we'll make in this section from 500 to 5 - huge improvement! In this section, we'll split our list of stocks into groups of 100 and then make a batch API call for each group."
   ]
  },
  {
   "cell_type": "code",
   "execution_count": 8,
   "metadata": {},
   "outputs": [],
   "source": [
    "def chunks(lst,n):\n",
    "    for i in range(0,len(lst),n):\n",
    "        yield lst[i:i+n]"
   ]
  },
  {
   "cell_type": "code",
   "execution_count": 9,
   "metadata": {},
   "outputs": [
    {
     "data": {
      "text/html": [
       "<div>\n",
       "<style scoped>\n",
       "    .dataframe tbody tr th:only-of-type {\n",
       "        vertical-align: middle;\n",
       "    }\n",
       "\n",
       "    .dataframe tbody tr th {\n",
       "        vertical-align: top;\n",
       "    }\n",
       "\n",
       "    .dataframe thead th {\n",
       "        text-align: right;\n",
       "    }\n",
       "</style>\n",
       "<table border=\"1\" class=\"dataframe\">\n",
       "  <thead>\n",
       "    <tr style=\"text-align: right;\">\n",
       "      <th></th>\n",
       "      <th>Ticker</th>\n",
       "      <th>Stock Price</th>\n",
       "      <th>Market Capitalization</th>\n",
       "      <th>Number Of Shares To Buy</th>\n",
       "    </tr>\n",
       "  </thead>\n",
       "  <tbody>\n",
       "    <tr>\n",
       "      <th>0</th>\n",
       "      <td>A</td>\n",
       "      <td>148.65</td>\n",
       "      <td>44151709087</td>\n",
       "      <td>N/A</td>\n",
       "    </tr>\n",
       "    <tr>\n",
       "      <th>1</th>\n",
       "      <td>AAL</td>\n",
       "      <td>13.655</td>\n",
       "      <td>9080290361</td>\n",
       "      <td>N/A</td>\n",
       "    </tr>\n",
       "    <tr>\n",
       "      <th>2</th>\n",
       "      <td>AAP</td>\n",
       "      <td>71.1</td>\n",
       "      <td>4147030897</td>\n",
       "      <td>N/A</td>\n",
       "    </tr>\n",
       "    <tr>\n",
       "      <th>3</th>\n",
       "      <td>AAPL</td>\n",
       "      <td>191.09</td>\n",
       "      <td>2913168898360</td>\n",
       "      <td>N/A</td>\n",
       "    </tr>\n",
       "    <tr>\n",
       "      <th>4</th>\n",
       "      <td>ABBV</td>\n",
       "      <td>154.75</td>\n",
       "      <td>277347193684</td>\n",
       "      <td>N/A</td>\n",
       "    </tr>\n",
       "    <tr>\n",
       "      <th>...</th>\n",
       "      <td>...</td>\n",
       "      <td>...</td>\n",
       "      <td>...</td>\n",
       "      <td>...</td>\n",
       "    </tr>\n",
       "    <tr>\n",
       "      <th>491</th>\n",
       "      <td>YUM</td>\n",
       "      <td>136.41</td>\n",
       "      <td>38766673982</td>\n",
       "      <td>N/A</td>\n",
       "    </tr>\n",
       "    <tr>\n",
       "      <th>492</th>\n",
       "      <td>ZBH</td>\n",
       "      <td>116.41</td>\n",
       "      <td>23948842811</td>\n",
       "      <td>N/A</td>\n",
       "    </tr>\n",
       "    <tr>\n",
       "      <th>493</th>\n",
       "      <td>ZBRA</td>\n",
       "      <td>325.66</td>\n",
       "      <td>16814144781</td>\n",
       "      <td>N/A</td>\n",
       "    </tr>\n",
       "    <tr>\n",
       "      <th>494</th>\n",
       "      <td>ZION</td>\n",
       "      <td>42.685</td>\n",
       "      <td>6362442402</td>\n",
       "      <td>N/A</td>\n",
       "    </tr>\n",
       "    <tr>\n",
       "      <th>495</th>\n",
       "      <td>ZTS</td>\n",
       "      <td>170.58</td>\n",
       "      <td>77602113950</td>\n",
       "      <td>N/A</td>\n",
       "    </tr>\n",
       "  </tbody>\n",
       "</table>\n",
       "<p>496 rows × 4 columns</p>\n",
       "</div>"
      ],
      "text/plain": [
       "    Ticker Stock Price Market Capitalization Number Of Shares To Buy\n",
       "0        A      148.65           44151709087                     N/A\n",
       "1      AAL      13.655            9080290361                     N/A\n",
       "2      AAP        71.1            4147030897                     N/A\n",
       "3     AAPL      191.09         2913168898360                     N/A\n",
       "4     ABBV      154.75          277347193684                     N/A\n",
       "..     ...         ...                   ...                     ...\n",
       "491    YUM      136.41           38766673982                     N/A\n",
       "492    ZBH      116.41           23948842811                     N/A\n",
       "493   ZBRA      325.66           16814144781                     N/A\n",
       "494   ZION      42.685            6362442402                     N/A\n",
       "495    ZTS      170.58           77602113950                     N/A\n",
       "\n",
       "[496 rows x 4 columns]"
      ]
     },
     "execution_count": 9,
     "metadata": {},
     "output_type": "execute_result"
    }
   ],
   "source": [
    "symbol_groups=list(chunks(stocks['Ticker'],100))\n",
    "symbol_strings=[]\n",
    "for i in range(0,len(symbol_groups)):\n",
    "    symbol_strings.append(','.join(symbol_groups[i]))\n",
    "    #print(symbol_strings[i])\n",
    "\n",
    "final_dataframe=pd.DataFrame(columns=my_columns)\n",
    "for symbol_string in symbol_strings:\n",
    "    batch_api_url=f'https://cloud.iexapis.com/stable/stock/market/batch?symbols={symbol_string}&types=quote,stats&token={IEX_CLOUD_API_TOKEN}'\n",
    "    data=requests.get(batch_api_url).json()\n",
    "    for symbol in symbol_string.split(','):\n",
    "        new_series = pd.Series(\n",
    "            [symbol, data[symbol]['quote'].get('iexClose', 'N/A'), data[symbol]['stats'].get('marketcap', 'N/A'), 'N/A'],\n",
    "            index=my_columns\n",
    "        )\n",
    "\n",
    "        # Use pd.concat to append the new series to the DataFrame\n",
    "        final_dataframe = pd.concat([final_dataframe, new_series.to_frame().T], ignore_index=True)\n",
    "final_dataframe"
   ]
  },
  {
   "cell_type": "markdown",
   "metadata": {},
   "source": [
    "## Calculating the Number of Shares to Buy\n",
    "\n",
    "As you can see in the DataFrame above, we stil haven't calculated the number of shares of each stock to buy.\n",
    "\n",
    "We'll do that next."
   ]
  },
  {
   "cell_type": "code",
   "execution_count": 10,
   "metadata": {},
   "outputs": [
    {
     "name": "stdout",
     "output_type": "stream",
     "text": [
      "10000000.0\n"
     ]
    }
   ],
   "source": [
    "\n",
    "portfolio_size = input('Enter your portfolio size: ')\n",
    "val = float(portfolio_size)\n",
    "print(val)\n"
   ]
  },
  {
   "cell_type": "code",
   "execution_count": 11,
   "metadata": {},
   "outputs": [
    {
     "data": {
      "text/html": [
       "<div>\n",
       "<style scoped>\n",
       "    .dataframe tbody tr th:only-of-type {\n",
       "        vertical-align: middle;\n",
       "    }\n",
       "\n",
       "    .dataframe tbody tr th {\n",
       "        vertical-align: top;\n",
       "    }\n",
       "\n",
       "    .dataframe thead th {\n",
       "        text-align: right;\n",
       "    }\n",
       "</style>\n",
       "<table border=\"1\" class=\"dataframe\">\n",
       "  <thead>\n",
       "    <tr style=\"text-align: right;\">\n",
       "      <th></th>\n",
       "      <th>Ticker</th>\n",
       "      <th>Stock Price</th>\n",
       "      <th>Market Capitalization</th>\n",
       "      <th>Number Of Shares To Buy</th>\n",
       "    </tr>\n",
       "  </thead>\n",
       "  <tbody>\n",
       "    <tr>\n",
       "      <th>0</th>\n",
       "      <td>A</td>\n",
       "      <td>148.65</td>\n",
       "      <td>44151709087</td>\n",
       "      <td>135</td>\n",
       "    </tr>\n",
       "    <tr>\n",
       "      <th>1</th>\n",
       "      <td>AAL</td>\n",
       "      <td>13.655</td>\n",
       "      <td>9080290361</td>\n",
       "      <td>1476</td>\n",
       "    </tr>\n",
       "    <tr>\n",
       "      <th>2</th>\n",
       "      <td>AAP</td>\n",
       "      <td>71.1</td>\n",
       "      <td>4147030897</td>\n",
       "      <td>283</td>\n",
       "    </tr>\n",
       "    <tr>\n",
       "      <th>3</th>\n",
       "      <td>AAPL</td>\n",
       "      <td>191.09</td>\n",
       "      <td>2913168898360</td>\n",
       "      <td>105</td>\n",
       "    </tr>\n",
       "    <tr>\n",
       "      <th>4</th>\n",
       "      <td>ABBV</td>\n",
       "      <td>154.75</td>\n",
       "      <td>277347193684</td>\n",
       "      <td>130</td>\n",
       "    </tr>\n",
       "    <tr>\n",
       "      <th>...</th>\n",
       "      <td>...</td>\n",
       "      <td>...</td>\n",
       "      <td>...</td>\n",
       "      <td>...</td>\n",
       "    </tr>\n",
       "    <tr>\n",
       "      <th>491</th>\n",
       "      <td>YUM</td>\n",
       "      <td>136.41</td>\n",
       "      <td>38766673982</td>\n",
       "      <td>147</td>\n",
       "    </tr>\n",
       "    <tr>\n",
       "      <th>492</th>\n",
       "      <td>ZBH</td>\n",
       "      <td>116.41</td>\n",
       "      <td>23948842811</td>\n",
       "      <td>173</td>\n",
       "    </tr>\n",
       "    <tr>\n",
       "      <th>493</th>\n",
       "      <td>ZBRA</td>\n",
       "      <td>325.66</td>\n",
       "      <td>16814144781</td>\n",
       "      <td>61</td>\n",
       "    </tr>\n",
       "    <tr>\n",
       "      <th>494</th>\n",
       "      <td>ZION</td>\n",
       "      <td>42.685</td>\n",
       "      <td>6362442402</td>\n",
       "      <td>472</td>\n",
       "    </tr>\n",
       "    <tr>\n",
       "      <th>495</th>\n",
       "      <td>ZTS</td>\n",
       "      <td>170.58</td>\n",
       "      <td>77602113950</td>\n",
       "      <td>118</td>\n",
       "    </tr>\n",
       "  </tbody>\n",
       "</table>\n",
       "<p>496 rows × 4 columns</p>\n",
       "</div>"
      ],
      "text/plain": [
       "    Ticker Stock Price Market Capitalization Number Of Shares To Buy\n",
       "0        A      148.65           44151709087                     135\n",
       "1      AAL      13.655            9080290361                    1476\n",
       "2      AAP        71.1            4147030897                     283\n",
       "3     AAPL      191.09         2913168898360                     105\n",
       "4     ABBV      154.75          277347193684                     130\n",
       "..     ...         ...                   ...                     ...\n",
       "491    YUM      136.41           38766673982                     147\n",
       "492    ZBH      116.41           23948842811                     173\n",
       "493   ZBRA      325.66           16814144781                      61\n",
       "494   ZION      42.685            6362442402                     472\n",
       "495    ZTS      170.58           77602113950                     118\n",
       "\n",
       "[496 rows x 4 columns]"
      ]
     },
     "execution_count": 11,
     "metadata": {},
     "output_type": "execute_result"
    }
   ],
   "source": [
    "position_size=val/len(final_dataframe.index)\n",
    "for i in range(0,len(final_dataframe.index)):\n",
    "    final_dataframe.loc[i,'Number Of Shares To Buy']=math.floor(position_size/final_dataframe.loc[i,'Stock Price'])\n",
    "final_dataframe"
   ]
  },
  {
   "cell_type": "markdown",
   "metadata": {},
   "source": [
    "## Formatting Our Excel Output\n",
    "\n",
    "We will be using the XlsxWriter library for Python to create nicely-formatted Excel files.\n",
    "\n",
    "XlsxWriter is an excellent package and offers tons of customization. However, the tradeoff for this is that the library can seem very complicated to new users. Accordingly, this section will be fairly long because I want to do a good job of explaining how XlsxWriter works.\n",
    "\n",
    "### Initializing our XlsxWriter Object\n",
    "### Creating the Formats We'll Need For Our `.xlsx` File\n",
    "\n",
    "Formats include colors, fonts, and also symbols like `%` and `$`. We'll need four main formats for our Excel document:\n",
    "* String format for tickers\n",
    "* \\\\$XX.XX format for stock prices\n",
    "* \\\\$XX,XXX format for market capitalization\n",
    "* Integer format for the number of shares to purchase\n",
    "### Applying the Formats to the Columns of Our `.xlsx` File\n",
    "\n",
    "We can use the `set_column` method applied to the `writer.sheets['Recommended Trades']` object to apply formats to specific columns of our spreadsheets.\n",
    "\n",
    "Here's an example:\n",
    "\n",
    "```python\n",
    "writer.sheets['Recommended Trades'].set_column('B:B', #This tells the method to apply the format to column B\n",
    "                     18, #This tells the method to apply a column width of 18 pixels\n",
    "                     string_template #This applies the format 'string_template' to the column\n",
    "                    )\n",
    "```"
   ]
  },
  {
   "cell_type": "code",
   "execution_count": 12,
   "metadata": {},
   "outputs": [],
   "source": [
    "\n",
    "\n",
    "# Define the Excel writer and the sheet name\n",
    "writer = pd.ExcelWriter('recommended_trades.xlsx', engine='xlsxwriter')\n",
    "\n",
    "# Write the DataFrame to an Excel sheet\n",
    "final_dataframe.to_excel(writer, sheet_name='Recommended Trades', index=False)\n",
    "\n",
    "# Get the workbook and worksheet objects\n",
    "workbook = writer.book\n",
    "worksheet = writer.sheets['Recommended Trades']\n",
    "\n",
    "# Define formats\n",
    "background_color = '#0a0a24'\n",
    "font_color = '#ffffff'\n",
    "\n",
    "string_format = workbook.add_format(\n",
    "    {\n",
    "        'font_color': font_color,\n",
    "        'bg_color': background_color,\n",
    "        'border': 1\n",
    "    }\n",
    ")\n",
    "\n",
    "dollar_format = workbook.add_format(\n",
    "    {\n",
    "        'num_format': '$0.00',\n",
    "        'font_color': font_color,\n",
    "        'bg_color': background_color,\n",
    "        'border': 1\n",
    "    }\n",
    ")\n",
    "\n",
    "integer_format = workbook.add_format(\n",
    "    {\n",
    "        'num_format': '0',\n",
    "        'font_color': font_color,\n",
    "        'bg_color': background_color,\n",
    "        'border': 1\n",
    "    }\n",
    ")\n",
    "\n",
    "# Apply formats to columns\n",
    "for col_num, col_name in enumerate(my_columns):\n",
    "    if col_name == 'Stock Price':\n",
    "        worksheet.set_column(col_num, col_num, 18, dollar_format)\n",
    "    elif col_name == 'Market Capitalization':\n",
    "        worksheet.set_column(col_num, col_num, 18, dollar_format)\n",
    "    else:\n",
    "        worksheet.set_column(col_num, col_num, 18, string_format)\n",
    "\n",
    "# Close the Excel writer\n",
    "writer.close()\n"
   ]
  },
  {
   "cell_type": "markdown",
   "metadata": {},
   "source": [
    "This code works, but it violates the software principle of \"Don't Repeat Yourself\". \n",
    "\n",
    "Let's simplify this by putting it in 2 loops:"
   ]
  },
  {
   "cell_type": "code",
   "execution_count": null,
   "metadata": {},
   "outputs": [],
   "source": []
  }
 ],
 "metadata": {
  "kernelspec": {
   "display_name": "Python 3",
   "language": "python",
   "name": "python3"
  },
  "language_info": {
   "codemirror_mode": {
    "name": "ipython",
    "version": 3
   },
   "file_extension": ".py",
   "mimetype": "text/x-python",
   "name": "python",
   "nbconvert_exporter": "python",
   "pygments_lexer": "ipython3",
   "version": "3.12.1"
  }
 },
 "nbformat": 4,
 "nbformat_minor": 4
}
